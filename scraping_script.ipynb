{
 "cells": [
  {
   "cell_type": "code",
   "execution_count": 1,
   "metadata": {},
   "outputs": [],
   "source": [
    "from selenium import webdriver\n",
    "from selenium.webdriver.common.by import By\n",
    "import csv\n",
    "import time\n",
    "\n",
    "driver = webdriver.Firefox()\n",
    "\n",
    "# URL target\n",
    "url = 'https://www.google.com/maps/place/Kebun+Binatang+Surabaya/@-7.2959493,112.7340345,17z/data=!4m8!3m7!1s0x2dd7fb97917c2fad:0x21b1122d5fe174cc!8m2!3d-7.2959546!4d112.7366094!9m1!1b1!16s%2Fm%2F0j51vc7?entry=ttu'\n",
    "\n",
    "# Buka URL\n",
    "driver.get(url)\n",
    "\n",
    "# Scroll ke bawah untuk memuat ulasan tambahan\n",
    "driver.execute_script(\"window.scrollBy(0, window.innerHeight);\")\n",
    "\n",
    "# Tunggu sebentar agar ulasan tambahan dimuat\n",
    "time.sleep(240)\n",
    "\n",
    "\n",
    "while True:\n",
    "    # Cek apakah masih ada tombol \"Lihat lebih banyak ulasan\"\n",
    "    more_button = driver.find_elements(By.XPATH, \"//button[@class='w8nwRe kyuRq']\")\n",
    "    if len(more_button) == 0:\n",
    "        break\n",
    "    else:\n",
    "        more_button[0].click()\n",
    "        \n",
    "# Dapatkan semua elemen ulasan\n",
    "reviews = driver.find_elements(By.XPATH, \"//div[@class='jftiEf fontBodyMedium ']\")\n",
    "data = 1\n",
    "with open('ulasan_kebun_binatang.csv', 'w', newline='', encoding='utf-8') as file:\n",
    "        writer = csv.writer(file)\n",
    "        writer.writerow(['Username', 'Rating', 'Ulasan'])\n",
    "        # Loop melalui setiap elemen ulasan dan tulis ke file CSV\n",
    "        for review in reviews:\n",
    "            author = review.find_element(By.CLASS_NAME, 'd4r55').text\n",
    "            rating = review.find_element(By.CLASS_NAME, 'kvMYJc').get_attribute('aria-label')\n",
    "            comment = review.find_element(By.CLASS_NAME, 'MyEned').text\n",
    "            writer.writerow([author, rating, comment])\n",
    "            data += 1\n",
    "            \n",
    "# Tutup browser\n",
    "driver.quit()\n",
    "print(f'Anda Mendapatkan data Scraping sebanyak {data} data')"
   ]
  }
 ],
 "metadata": {
  "kernelspec": {
   "display_name": ".venv",
   "language": "python",
   "name": "python3"
  },
  "language_info": {
   "codemirror_mode": {
    "name": "ipython",
    "version": 3
   },
   "file_extension": ".py",
   "mimetype": "text/x-python",
   "name": "python",
   "nbconvert_exporter": "python",
   "pygments_lexer": "ipython3",
   "version": "3.10.6"
  },
  "orig_nbformat": 4
 },
 "nbformat": 4,
 "nbformat_minor": 2
}
